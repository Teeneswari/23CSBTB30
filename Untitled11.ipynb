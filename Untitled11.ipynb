{
  "nbformat": 4,
  "nbformat_minor": 0,
  "metadata": {
    "colab": {
      "provenance": [],
      "authorship_tag": "ABX9TyOIyhC7v4pzuvKHTwMbD6xK",
      "include_colab_link": true
    },
    "kernelspec": {
      "name": "python3",
      "display_name": "Python 3"
    },
    "language_info": {
      "name": "python"
    }
  },
  "cells": [
    {
      "cell_type": "markdown",
      "metadata": {
        "id": "view-in-github",
        "colab_type": "text"
      },
      "source": [
        "<a href=\"https://colab.research.google.com/github/Teeneswari/23CSBTB30/blob/main/Untitled11.ipynb\" target=\"_parent\"><img src=\"https://colab.research.google.com/assets/colab-badge.svg\" alt=\"Open In Colab\"/></a>"
      ]
    },
    {
      "cell_type": "code",
      "execution_count": null,
      "metadata": {
        "id": "os0c0_q89HKB"
      },
      "outputs": [],
      "source": []
    },
    {
      "cell_type": "markdown",
      "source": [
        "## ASSIGNMENT-3"
      ],
      "metadata": {
        "id": "RLSnWZ049H9y"
      }
    },
    {
      "cell_type": "code",
      "source": [],
      "metadata": {
        "id": "81S4Ezya9OOf"
      },
      "execution_count": null,
      "outputs": []
    },
    {
      "cell_type": "code",
      "source": [],
      "metadata": {
        "id": "zyLiLCAt9NzR"
      },
      "execution_count": null,
      "outputs": []
    },
    {
      "cell_type": "code",
      "source": [
        "from collections import namedtuple,Counter,defaultdict\n",
        "import random\n",
        "import math\n",
        "import functools\n",
        "cache - functools.lru_cache(10**6)"
      ],
      "metadata": {
        "colab": {
          "base_uri": "https://localhost:8080/",
          "height": 176
        },
        "id": "wjACB3lJ6CNp",
        "outputId": "2da97247-0f8c-4701-816e-1c0afcb445a4"
      },
      "execution_count": null,
      "outputs": [
        {
          "output_type": "error",
          "ename": "NameError",
          "evalue": "name 'cache' is not defined",
          "traceback": [
            "\u001b[0;31m---------------------------------------------------------------------------\u001b[0m",
            "\u001b[0;31mNameError\u001b[0m                                 Traceback (most recent call last)",
            "\u001b[0;32m<ipython-input-1-6dd1727d5d15>\u001b[0m in \u001b[0;36m<cell line: 5>\u001b[0;34m()\u001b[0m\n\u001b[1;32m      3\u001b[0m \u001b[0;32mimport\u001b[0m \u001b[0mmath\u001b[0m\u001b[0;34m\u001b[0m\u001b[0;34m\u001b[0m\u001b[0m\n\u001b[1;32m      4\u001b[0m \u001b[0;32mimport\u001b[0m \u001b[0mfunctools\u001b[0m\u001b[0;34m\u001b[0m\u001b[0;34m\u001b[0m\u001b[0m\n\u001b[0;32m----> 5\u001b[0;31m \u001b[0mcache\u001b[0m \u001b[0;34m-\u001b[0m \u001b[0mfunctools\u001b[0m\u001b[0;34m.\u001b[0m\u001b[0mlru_cache\u001b[0m\u001b[0;34m(\u001b[0m\u001b[0;36m10\u001b[0m\u001b[0;34m**\u001b[0m\u001b[0;36m6\u001b[0m\u001b[0;34m)\u001b[0m\u001b[0;34m\u001b[0m\u001b[0;34m\u001b[0m\u001b[0m\n\u001b[0m",
            "\u001b[0;31mNameError\u001b[0m: name 'cache' is not defined"
          ]
        }
      ]
    },
    {
      "cell_type": "code",
      "source": [
        "class Game:\n",
        " def actions(self, state):\n",
        " Return a collection of the allowable moves from this state.\n",
        " raise NotImplementedError\n",
        " def result(self, state, move):\n",
        " Return the state that results from making a move from a state.\n",
        " raise NotImplementedError\n",
        " def is terminal(self, state):\n",
        " Return True if this is a final state for the game.\n",
        " return not self.actions(state)\n",
        " def utility(self, state, player):\n",
        " Return the value of this final state to player.\n",
        " raise NotImplementedError"
      ],
      "metadata": {
        "id": "LqqZ-aRt9PkK"
      },
      "execution_count": null,
      "outputs": []
    },
    {
      "cell_type": "code",
      "source": [
        "def play game(game, strategies: dict, verbose=False):\n",
        " Play a turn−taking game. strategies is a player name: function dict,\n",
        " where function(state, game) is used to get the player s move.\n",
        " state = game.initial\n",
        " while not game.is terminal(state):\n",
        " player = state.to move\n",
        " move = strategies[player](game, state)\n",
        " state = game.result(state, move)\n",
        " if verbose:\n",
        " print( Player , player, move: , move)\n",
        " print(state)\n",
        " return state"
      ],
      "metadata": {
        "id": "SYvRKc8v9ZUj"
      },
      "execution_count": null,
      "outputs": []
    },
    {
      "cell_type": "code",
      "source": [
        " def minimax search(game, state):\n",
        " Search game tree to determine best move; return (value, move) pair.\n",
        " player = state.to move\n",
        " def max value(state):\n",
        " if game.is terminal(state):\n",
        " return game.utility(state, player), None\n",
        " v, move = −infinity, None\n",
        " for a in game.actions(state):\n",
        " v2,\n",
        " = min value(game.result(state, a))\n",
        " if v2 > v:\n",
        " v, move = v2, a\n",
        " return v, move\n",
        " def min value(state):\n",
        " if game.is terminal(state):\n",
        " return game.utility(state, player), None\n",
        " v, move = +infinity, None\n",
        " for a in game.actions(state):\n",
        " v2,\n",
        " = max value(game.result(state, a))\n",
        " if v2 < v:\n",
        " v, move = v2, a\n",
        " return v, move\n",
        " return max value(state)\n",
        " infinity = math.inf"
      ],
      "metadata": {
        "id": "Ud4fGE2I9j6W"
      },
      "execution_count": null,
      "outputs": []
    },
    {
      "cell_type": "code",
      "source": [
        "def alphabeta search(game, state):\n",
        " Search game to determine best action; use alpha−beta pruning.\n",
        " Search all the way to the leaves.\n",
        " player = state.to move\n",
        " def max value(state, alpha, beta):\n",
        " if game.is terminal(state):\n",
        " return game.utility(state, player), None\n",
        " v, move = −infinity, None\n",
        " for a in game.actions(state):\n",
        " v2,\n",
        " = min value(game.result(state, a), alpha, beta)\n",
        " if v2 > v:\n",
        " v, move = v2, a\n",
        " alpha = max(alpha, v)\n",
        " if v >= beta:\n",
        " return v, move\n",
        " return v, move\n",
        " def min value(state, alpha, beta):\n",
        " if game.is terminal(state):\n",
        " return game.utility(state, player), None\n",
        " v, move = +infinity, None\n",
        " for a in game.actions(state):\n",
        " v2,\n",
        " = max value(game.result(state, a), alpha, beta)\n",
        " if v2 < v:\n",
        " v, move = v2, a\n",
        " beta = min(beta, v)\n",
        " if v <= alpha:\n",
        " return v, move\n",
        " return v, move\n",
        " return max value(state, −infiniity, +infinity)"
      ],
      "metadata": {
        "id": "EWN3hht19p90"
      },
      "execution_count": null,
      "outputs": []
    },
    {
      "cell_type": "code",
      "source": [
        " class TicTacToe(Game):\n",
        " Play TicTacToe on an height by width board, needing k in a row to win.\n",
        " X plays first against O.\n",
        " 3\n",
        "init\n",
        " (self, height=3, width=3, k=3):\n",
        " def\n",
        " self.k = k # k in a row\n",
        " self.squares = (x, y) for x in range(width) for y in range(height)\n",
        " self.initial = Board(height=height, width=width, to move= X , utility=0)\n",
        " def actions(self, board):\n",
        " Legal moves are any square not yet taken.\n",
        " return self.squares − set(board)\n",
        " def result(self, board, square):\n",
        " Place a marker for current player on square.\n",
        " player = board.to move\n",
        " board = board.new( square: player , to move=( O if player == X else X ))\n",
        " win = k in row(board, player, square, self.k)\n",
        " board.utility = (0 if not win else +1 if player == X else −1)\n",
        " return board\n",
        " def utility(self, board, player):\n",
        " Return the value to player; 1 for win, −1 for loss, 0 otherwise.\n",
        " return board.utility if player == X else −board.utility\n",
        " def is terminal(self, board):\n",
        " A board is a terminal state if it is won or there are no empty squares.\n",
        " return board.utility != 0 or len(self.squares) == len(board)\n",
        " def display(self, board): print(board)\n",
        " def k in row(board, player, square, k):\n",
        " True if player has k pieces in a line through square.\n",
        " def in row(x, y, dx, dy):\n",
        " return 0 if board[x, y] != player else 1 + in row(x + dx, y + dy, dx, dy)\n",
        " return any(in row(∗square, dx, dy) + in row(∗square, −dx, −dy)−1>=k\n",
        " for (dx, dy) in ((0, 1), (1, 0), (1, 1), (1, −1)))"
      ],
      "metadata": {
        "id": "LAAr7bJs96Kc"
      },
      "execution_count": null,
      "outputs": []
    },
    {
      "cell_type": "code",
      "source": [
        "class Board(defaultdict):\n",
        " A board has the player to move, a cached utility value,\n",
        " and a dict of (x, y): player entries, where player is X or O.\n",
        " empty = .\n",
        " off = #\n",
        " 4\n",
        "init\n",
        " def\n",
        " self.\n",
        " dict\n",
        " (self, width=8, height=8, to move=None, ∗∗kwds):\n",
        " .update(width=width, height=height, to move=to move, ∗∗kwds)\n",
        " def new(self, changes: dict, ∗∗kwds) −> Board :\n",
        " \"Given a dict of (x, y): contents changes, return a new Board with the changes.\"\n",
        " board = Board(width=self.width, height=self.height, ∗∗kwds)\n",
        " board.update(self)\n",
        " board.update(changes)\n",
        " return board\n",
        " def\n",
        " missing (self, loc):\n",
        " x, y = loc\n",
        " if 0 <= x < self.width and 0 <= y < self.height: return self.empty\n",
        " else:\n",
        " return self.off\n",
        " def\n",
        " hash\n",
        " (self):\n",
        " return hash(tuple(sorted(self.items()))) + hash(self.to move)\n",
        " def\n",
        " repr\n",
        " (self):\n",
        " def row(y): return\n",
        "return\n",
        ".join(self[x, y] for x in range(self.width))\n",
        "\n"
      ],
      "metadata": {
        "id": "MeW7Ux0I-Rih"
      },
      "execution_count": null,
      "outputs": []
    },
    {
      "cell_type": "code",
      "source": [
        " def random player(game, state): return random.choice(list(game.actions(state)))\n",
        " def player(search algorithm):\n",
        " Agame player who uses the specified search algorithm\n",
        " return lambda game, state: search algorithm(game, state)[1]\n"
      ],
      "metadata": {
        "id": "TAjo3OZ-_ZhM"
      },
      "execution_count": null,
      "outputs": []
    },
    {
      "cell_type": "markdown",
      "source": [],
      "metadata": {
        "id": "HvfpBCFn_hCf"
      }
    }
  ]
}